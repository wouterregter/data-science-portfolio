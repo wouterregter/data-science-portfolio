{
 "cells": [
  {
   "cell_type": "markdown",
   "metadata": {},
   "source": [
    "# Exploratory Data Analysis"
   ]
  },
  {
   "cell_type": "markdown",
   "metadata": {},
   "source": [
    "## Imports"
   ]
  },
  {
   "cell_type": "code",
   "execution_count": 1,
   "metadata": {},
   "outputs": [],
   "source": [
    "import pandas as pd\n",
    "import numpy as np\n",
    "import matplotlib.pyplot as plt\n",
    "import seaborn as sns\n",
    "from sklearn.model_selection import train_test_split, cross_val_score, KFold\n",
    "from sklearn.linear_model import LinearRegression, LogisticRegression\n",
    "from sklearn.impute import KNNImputer\n",
    "from sklearn.pipeline import make_pipeline\n",
    "from sklearn.preprocessing import StandardScaler\n",
    "from sklearn.experimental import enable_iterative_imputer\n",
    "from sklearn.impute import IterativeImputer\n",
    "import statsmodels.api as sm"
   ]
  },
  {
   "cell_type": "markdown",
   "metadata": {},
   "source": [
    "## Inspecting the Data"
   ]
  },
  {
   "cell_type": "code",
   "execution_count": 2,
   "metadata": {},
   "outputs": [],
   "source": [
    "# Import the data\n",
    "df = pd.read_csv('query.csv')"
   ]
  },
  {
   "cell_type": "code",
   "execution_count": 3,
   "metadata": {},
   "outputs": [],
   "source": [
    "# Dropping records that are different only in terms of internal ID \n",
    "df = df.drop_duplicates('mediaId')"
   ]
  },
  {
   "cell_type": "code",
   "execution_count": 4,
   "metadata": {},
   "outputs": [
    {
     "data": {
      "text/plain": [
       "(3208, 36)"
      ]
     },
     "execution_count": 4,
     "metadata": {},
     "output_type": "execute_result"
    }
   ],
   "source": [
    "# Check dimensions\n",
    "df.shape"
   ]
  },
  {
   "cell_type": "code",
   "execution_count": 5,
   "metadata": {},
   "outputs": [
    {
     "data": {
      "text/html": [
       "<div>\n",
       "<style scoped>\n",
       "    .dataframe tbody tr th:only-of-type {\n",
       "        vertical-align: middle;\n",
       "    }\n",
       "\n",
       "    .dataframe tbody tr th {\n",
       "        vertical-align: top;\n",
       "    }\n",
       "\n",
       "    .dataframe thead th {\n",
       "        text-align: right;\n",
       "    }\n",
       "</style>\n",
       "<table border=\"1\" class=\"dataframe\">\n",
       "  <thead>\n",
       "    <tr style=\"text-align: right;\">\n",
       "      <th></th>\n",
       "      <th>internalId</th>\n",
       "      <th>mediaId</th>\n",
       "      <th>title</th>\n",
       "      <th>beginTimeCET</th>\n",
       "      <th>channel</th>\n",
       "      <th>skoClassL1</th>\n",
       "      <th>skoClassL2</th>\n",
       "      <th>npoCCCDomainDef</th>\n",
       "      <th>npoCCCDef</th>\n",
       "      <th>npoZapp</th>\n",
       "      <th>broadcasters</th>\n",
       "      <th>min_age_classification</th>\n",
       "      <th>duration</th>\n",
       "      <th>first_broadcaster</th>\n",
       "      <th>is_nos_content</th>\n",
       "      <th>AggregatedText</th>\n",
       "      <th>start</th>\n",
       "      <th>avg_kdh</th>\n",
       "      <th>fans</th>\n",
       "      <th>fansChange</th>\n",
       "      <th>ownPosts</th>\n",
       "      <th>ownPostsComments</th>\n",
       "      <th>ownPostsEngagement</th>\n",
       "      <th>ownPostsEngagementRate</th>\n",
       "      <th>pageEngagedUsers</th>\n",
       "      <th>pageImpressions</th>\n",
       "      <th>pageImpressionsUnique</th>\n",
       "      <th>pageImpressionsPaidUnique</th>\n",
       "      <th>pagePostEngagements</th>\n",
       "      <th>pageFans</th>\n",
       "      <th>pageFansChange</th>\n",
       "      <th>pageViewsTotal</th>\n",
       "      <th>pageEngagementRateUnique</th>\n",
       "      <th>pagePositiveFeedbackEngagementRate</th>\n",
       "      <th>pageFansOnlinePerDay</th>\n",
       "      <th>sum_weighted_comments</th>\n",
       "    </tr>\n",
       "  </thead>\n",
       "  <tbody>\n",
       "    <tr>\n",
       "      <th>0</th>\n",
       "      <td>112305280</td>\n",
       "      <td>VPWON_1311778</td>\n",
       "      <td>Zomergasten</td>\n",
       "      <td>2020-08-16 20:20:00</td>\n",
       "      <td>NPO 2</td>\n",
       "      <td>NON FICTIE</td>\n",
       "      <td>OVERIGE NON FICTIE</td>\n",
       "      <td>opinie</td>\n",
       "      <td>meningsvorming</td>\n",
       "      <td>False</td>\n",
       "      <td>VPRO</td>\n",
       "      <td>NaN</td>\n",
       "      <td>10745016</td>\n",
       "      <td>VPRO</td>\n",
       "      <td>False</td>\n",
       "      <td>888 LIVEPROGRAMMA, ONDERTITELING KAN ACHTERLOP...</td>\n",
       "      <td>no_start</td>\n",
       "      <td>4.006667e+05</td>\n",
       "      <td>43327.741667</td>\n",
       "      <td>-1.663866</td>\n",
       "      <td>0.221918</td>\n",
       "      <td>14.068493</td>\n",
       "      <td>88.265753</td>\n",
       "      <td>NaN</td>\n",
       "      <td>NaN</td>\n",
       "      <td>NaN</td>\n",
       "      <td>NaN</td>\n",
       "      <td>NaN</td>\n",
       "      <td>NaN</td>\n",
       "      <td>NaN</td>\n",
       "      <td>NaN</td>\n",
       "      <td>NaN</td>\n",
       "      <td>NaN</td>\n",
       "      <td>NaN</td>\n",
       "      <td>NaN</td>\n",
       "      <td>1215.75</td>\n",
       "    </tr>\n",
       "    <tr>\n",
       "      <th>1</th>\n",
       "      <td>113021287</td>\n",
       "      <td>VPWON_1314484</td>\n",
       "      <td>Iedereen verlicht</td>\n",
       "      <td>2020-10-11 16:29:00</td>\n",
       "      <td>NPO 2</td>\n",
       "      <td>NON FICTIE</td>\n",
       "      <td>OVERIGE NON FICTIE</td>\n",
       "      <td>samenleving</td>\n",
       "      <td>religie</td>\n",
       "      <td>False</td>\n",
       "      <td>NTR</td>\n",
       "      <td>NaN</td>\n",
       "      <td>1509144</td>\n",
       "      <td>NTR</td>\n",
       "      <td>False</td>\n",
       "      <td>888 Ga je erin, Jan? Ja. Ik durf het eigenlijk...</td>\n",
       "      <td>no_start</td>\n",
       "      <td>3.892857e+04</td>\n",
       "      <td>3534.758454</td>\n",
       "      <td>6.344660</td>\n",
       "      <td>0.624658</td>\n",
       "      <td>3.142466</td>\n",
       "      <td>33.460274</td>\n",
       "      <td>NaN</td>\n",
       "      <td>NaN</td>\n",
       "      <td>NaN</td>\n",
       "      <td>NaN</td>\n",
       "      <td>NaN</td>\n",
       "      <td>NaN</td>\n",
       "      <td>NaN</td>\n",
       "      <td>NaN</td>\n",
       "      <td>NaN</td>\n",
       "      <td>NaN</td>\n",
       "      <td>NaN</td>\n",
       "      <td>NaN</td>\n",
       "      <td>13.75</td>\n",
       "    </tr>\n",
       "    <tr>\n",
       "      <th>2</th>\n",
       "      <td>112035904</td>\n",
       "      <td>VPWON_1311775</td>\n",
       "      <td>Zomergasten</td>\n",
       "      <td>2020-07-26 20:18:00</td>\n",
       "      <td>NPO 2</td>\n",
       "      <td>NON FICTIE</td>\n",
       "      <td>OVERIGE NON FICTIE</td>\n",
       "      <td>opinie</td>\n",
       "      <td>meningsvorming</td>\n",
       "      <td>False</td>\n",
       "      <td>VPRO</td>\n",
       "      <td>NaN</td>\n",
       "      <td>11072760</td>\n",
       "      <td>VPRO</td>\n",
       "      <td>False</td>\n",
       "      <td>888 Ze is al meer dan 40 jaar strafrechtadvoca...</td>\n",
       "      <td>no_start</td>\n",
       "      <td>4.006667e+05</td>\n",
       "      <td>43344.141414</td>\n",
       "      <td>-1.724490</td>\n",
       "      <td>0.221918</td>\n",
       "      <td>14.068493</td>\n",
       "      <td>88.265753</td>\n",
       "      <td>NaN</td>\n",
       "      <td>NaN</td>\n",
       "      <td>NaN</td>\n",
       "      <td>NaN</td>\n",
       "      <td>NaN</td>\n",
       "      <td>NaN</td>\n",
       "      <td>NaN</td>\n",
       "      <td>NaN</td>\n",
       "      <td>NaN</td>\n",
       "      <td>NaN</td>\n",
       "      <td>NaN</td>\n",
       "      <td>NaN</td>\n",
       "      <td>1378.00</td>\n",
       "    </tr>\n",
       "    <tr>\n",
       "      <th>3</th>\n",
       "      <td>115257225</td>\n",
       "      <td>BV_101404366</td>\n",
       "      <td>Kassa</td>\n",
       "      <td>2021-04-10 19:06:00</td>\n",
       "      <td>NPO 1</td>\n",
       "      <td>NON FICTIE</td>\n",
       "      <td>OVERIGE NON FICTIE</td>\n",
       "      <td>kennis</td>\n",
       "      <td>service</td>\n",
       "      <td>False</td>\n",
       "      <td>BNNVARA</td>\n",
       "      <td>NaN</td>\n",
       "      <td>2731752</td>\n",
       "      <td>BNVA</td>\n",
       "      <td>False</td>\n",
       "      <td>888 SIRENE Drie uur spandoek klaar! Ja? Zijn j...</td>\n",
       "      <td>no_start</td>\n",
       "      <td>1.212919e+06</td>\n",
       "      <td>89244.712963</td>\n",
       "      <td>5.277778</td>\n",
       "      <td>1.424658</td>\n",
       "      <td>74.638356</td>\n",
       "      <td>164.252055</td>\n",
       "      <td>NaN</td>\n",
       "      <td>NaN</td>\n",
       "      <td>NaN</td>\n",
       "      <td>NaN</td>\n",
       "      <td>NaN</td>\n",
       "      <td>NaN</td>\n",
       "      <td>NaN</td>\n",
       "      <td>NaN</td>\n",
       "      <td>NaN</td>\n",
       "      <td>NaN</td>\n",
       "      <td>NaN</td>\n",
       "      <td>NaN</td>\n",
       "      <td>261.50</td>\n",
       "    </tr>\n",
       "    <tr>\n",
       "      <th>4</th>\n",
       "      <td>109725184</td>\n",
       "      <td>POW_04501861</td>\n",
       "      <td>Jeugdjournaal avond</td>\n",
       "      <td>2020-01-23 19:00:00</td>\n",
       "      <td>NPO 3</td>\n",
       "      <td>KINDEREN (0 t/m 12 jaar)</td>\n",
       "      <td>Kinderen: non fictie</td>\n",
       "      <td>nieuws</td>\n",
       "      <td>nieuws</td>\n",
       "      <td>True</td>\n",
       "      <td>NOS</td>\n",
       "      <td>9.0</td>\n",
       "      <td>1267929</td>\n",
       "      <td>NOS</td>\n",
       "      <td>True</td>\n",
       "      <td>In China heeft de regering een paar megagrote ...</td>\n",
       "      <td>no_start</td>\n",
       "      <td>2.363578e+05</td>\n",
       "      <td>NaN</td>\n",
       "      <td>NaN</td>\n",
       "      <td>0.027473</td>\n",
       "      <td>0.280220</td>\n",
       "      <td>1.697802</td>\n",
       "      <td>0.000282</td>\n",
       "      <td>167.373626</td>\n",
       "      <td>3443.813187</td>\n",
       "      <td>2380.167582</td>\n",
       "      <td>197.043956</td>\n",
       "      <td>234.39011</td>\n",
       "      <td>26936.596154</td>\n",
       "      <td>5.324176</td>\n",
       "      <td>63.89011</td>\n",
       "      <td>0.081743</td>\n",
       "      <td>0.013366</td>\n",
       "      <td>24130.419718</td>\n",
       "      <td>20.00</td>\n",
       "    </tr>\n",
       "  </tbody>\n",
       "</table>\n",
       "</div>"
      ],
      "text/plain": [
       "   internalId        mediaId                title         beginTimeCET  \\\n",
       "0   112305280  VPWON_1311778          Zomergasten  2020-08-16 20:20:00   \n",
       "1   113021287  VPWON_1314484    Iedereen verlicht  2020-10-11 16:29:00   \n",
       "2   112035904  VPWON_1311775          Zomergasten  2020-07-26 20:18:00   \n",
       "3   115257225   BV_101404366                Kassa  2021-04-10 19:06:00   \n",
       "4   109725184   POW_04501861  Jeugdjournaal avond  2020-01-23 19:00:00   \n",
       "\n",
       "  channel                skoClassL1            skoClassL2 npoCCCDomainDef  \\\n",
       "0   NPO 2                NON FICTIE    OVERIGE NON FICTIE          opinie   \n",
       "1   NPO 2                NON FICTIE    OVERIGE NON FICTIE     samenleving   \n",
       "2   NPO 2                NON FICTIE    OVERIGE NON FICTIE          opinie   \n",
       "3   NPO 1                NON FICTIE    OVERIGE NON FICTIE          kennis   \n",
       "4   NPO 3  KINDEREN (0 t/m 12 jaar)  Kinderen: non fictie          nieuws   \n",
       "\n",
       "        npoCCCDef  npoZapp broadcasters  min_age_classification  duration  \\\n",
       "0  meningsvorming    False         VPRO                     NaN  10745016   \n",
       "1         religie    False          NTR                     NaN   1509144   \n",
       "2  meningsvorming    False         VPRO                     NaN  11072760   \n",
       "3         service    False      BNNVARA                     NaN   2731752   \n",
       "4          nieuws     True          NOS                     9.0   1267929   \n",
       "\n",
       "  first_broadcaster  is_nos_content  \\\n",
       "0              VPRO           False   \n",
       "1               NTR           False   \n",
       "2              VPRO           False   \n",
       "3              BNVA           False   \n",
       "4               NOS            True   \n",
       "\n",
       "                                      AggregatedText     start       avg_kdh  \\\n",
       "0  888 LIVEPROGRAMMA, ONDERTITELING KAN ACHTERLOP...  no_start  4.006667e+05   \n",
       "1  888 Ga je erin, Jan? Ja. Ik durf het eigenlijk...  no_start  3.892857e+04   \n",
       "2  888 Ze is al meer dan 40 jaar strafrechtadvoca...  no_start  4.006667e+05   \n",
       "3  888 SIRENE Drie uur spandoek klaar! Ja? Zijn j...  no_start  1.212919e+06   \n",
       "4  In China heeft de regering een paar megagrote ...  no_start  2.363578e+05   \n",
       "\n",
       "           fans  fansChange  ownPosts  ownPostsComments  ownPostsEngagement  \\\n",
       "0  43327.741667   -1.663866  0.221918         14.068493           88.265753   \n",
       "1   3534.758454    6.344660  0.624658          3.142466           33.460274   \n",
       "2  43344.141414   -1.724490  0.221918         14.068493           88.265753   \n",
       "3  89244.712963    5.277778  1.424658         74.638356          164.252055   \n",
       "4           NaN         NaN  0.027473          0.280220            1.697802   \n",
       "\n",
       "   ownPostsEngagementRate  pageEngagedUsers  pageImpressions  \\\n",
       "0                     NaN               NaN              NaN   \n",
       "1                     NaN               NaN              NaN   \n",
       "2                     NaN               NaN              NaN   \n",
       "3                     NaN               NaN              NaN   \n",
       "4                0.000282        167.373626      3443.813187   \n",
       "\n",
       "   pageImpressionsUnique  pageImpressionsPaidUnique  pagePostEngagements  \\\n",
       "0                    NaN                        NaN                  NaN   \n",
       "1                    NaN                        NaN                  NaN   \n",
       "2                    NaN                        NaN                  NaN   \n",
       "3                    NaN                        NaN                  NaN   \n",
       "4            2380.167582                 197.043956            234.39011   \n",
       "\n",
       "       pageFans  pageFansChange  pageViewsTotal  pageEngagementRateUnique  \\\n",
       "0           NaN             NaN             NaN                       NaN   \n",
       "1           NaN             NaN             NaN                       NaN   \n",
       "2           NaN             NaN             NaN                       NaN   \n",
       "3           NaN             NaN             NaN                       NaN   \n",
       "4  26936.596154        5.324176        63.89011                  0.081743   \n",
       "\n",
       "   pagePositiveFeedbackEngagementRate  pageFansOnlinePerDay  \\\n",
       "0                                 NaN                   NaN   \n",
       "1                                 NaN                   NaN   \n",
       "2                                 NaN                   NaN   \n",
       "3                                 NaN                   NaN   \n",
       "4                            0.013366          24130.419718   \n",
       "\n",
       "   sum_weighted_comments  \n",
       "0                1215.75  \n",
       "1                  13.75  \n",
       "2                1378.00  \n",
       "3                 261.50  \n",
       "4                  20.00  "
      ]
     },
     "execution_count": 5,
     "metadata": {},
     "output_type": "execute_result"
    }
   ],
   "source": [
    "# Check first few rows\n",
    "pd.set_option('display.max_columns', 500)\n",
    "df.head()"
   ]
  },
  {
   "cell_type": "code",
   "execution_count": 6,
   "metadata": {},
   "outputs": [],
   "source": [
    "# Drop things that are not features and save ids\n",
    "ids = df.mediaId\n",
    "df = df.drop([\"internalId\", \"mediaId\", \"beginTimeCET\", \"AggregatedText\", 'broadcasters'], axis=1)"
   ]
  },
  {
   "cell_type": "markdown",
   "metadata": {},
   "source": [
    "## Correlated Features"
   ]
  },
  {
   "cell_type": "code",
   "execution_count": 7,
   "metadata": {
    "tags": []
   },
   "outputs": [
    {
     "name": "stdout",
     "output_type": "stream",
     "text": [
      "32\n"
     ]
    }
   ],
   "source": [
    "# Checking for high multicollinearity\n",
    "corr_df = df.corr()\n",
    "high_mc = []\n",
    "for i in np.arange(0,corr_df.shape[0]):\n",
    "    for j in np.arange(0, corr_df.shape[1]):\n",
    "        if corr_df.iloc[i,j] >= 0.80 and i != j:\n",
    "            high_mc.append([i,j])\n",
    "print(len(high_mc))"
   ]
  },
  {
   "cell_type": "code",
   "execution_count": 8,
   "metadata": {},
   "outputs": [],
   "source": [
    "# Dropping highly correlating features\n",
    "df = df.drop(['ownPostsEngagement', 'pageEngagedUsers', 'pagePostEngagements', 'pageFansOnlinePerDay', 'pageImpressions', 'pageImpressionsUnique', 'pagePositiveFeedbackEngagementRate'], axis=1)"
   ]
  },
  {
   "cell_type": "markdown",
   "metadata": {},
   "source": [
    "## Missing Values"
   ]
  },
  {
   "cell_type": "code",
   "execution_count": 9,
   "metadata": {
    "tags": []
   },
   "outputs": [
    {
     "data": {
      "text/plain": [
       "min_age_classification       0.98005\n",
       "pageEngagementRateUnique     0.16178\n",
       "pageViewsTotal               0.16178\n",
       "pageFansChange               0.16178\n",
       "pageFans                     0.16178\n",
       "pageImpressionsPaidUnique    0.16178\n",
       "ownPostsEngagementRate       0.16178\n",
       "fansChange                   0.10505\n",
       "fans                         0.10474\n",
       "sum_weighted_comments        0.00031\n",
       "dtype: float64"
      ]
     },
     "execution_count": 9,
     "metadata": {},
     "output_type": "execute_result"
    }
   ],
   "source": [
    "# Check for missing values\n",
    "round(df.isna().sum()/df.shape[0],5).sort_values(ascending=False).head(10)"
   ]
  },
  {
   "cell_type": "code",
   "execution_count": 10,
   "metadata": {},
   "outputs": [],
   "source": [
    "# Change NAs in min_age_classification to 'None'\n",
    "df.min_age_classification = df.min_age_classification.fillna('None')"
   ]
  },
  {
   "cell_type": "code",
   "execution_count": 11,
   "metadata": {},
   "outputs": [],
   "source": [
    "# Impute fans and fansChange from other API features\n",
    "df.fans = df.fans.fillna(df.pageFans)\n",
    "df.fansChange = df.fansChange.fillna(df.pageFansChange)\n",
    "df = df.drop(['pageFans', 'pageFansChange'],axis=1)"
   ]
  },
  {
   "cell_type": "code",
   "execution_count": 12,
   "metadata": {},
   "outputs": [],
   "source": [
    "# Making a copy for further analysis\n",
    "df_missing = df.copy()"
   ]
  },
  {
   "cell_type": "code",
   "execution_count": 13,
   "metadata": {},
   "outputs": [],
   "source": [
    "# Get dummies\n",
    "df = pd.get_dummies(df)"
   ]
  },
  {
   "cell_type": "code",
   "execution_count": 14,
   "metadata": {},
   "outputs": [],
   "source": [
    "# Dropping a couple of missing values\n",
    "df['ID'] = ids\n",
    "df = df.dropna(subset=['sum_weighted_comments','fans','fansChange'])\n",
    "df = df.reset_index(drop=True)\n",
    "ids = df.ID\n",
    "df = df.drop('ID',axis=1)"
   ]
  },
  {
   "cell_type": "code",
   "execution_count": 15,
   "metadata": {},
   "outputs": [],
   "source": [
    "#Impute missing values using IterativeImputer\n",
    "cols = df.columns\n",
    "impute = IterativeImputer()\n",
    "df = impute.fit_transform(df)\n",
    "df = pd.DataFrame(df, columns = cols)"
   ]
  },
  {
   "cell_type": "markdown",
   "metadata": {},
   "source": [
    "## Correlations with Target"
   ]
  },
  {
   "cell_type": "code",
   "execution_count": 16,
   "metadata": {},
   "outputs": [
    {
     "data": {
      "text/plain": [
       "Text(0.5, 0, 'Online Participation')"
      ]
     },
     "execution_count": 16,
     "metadata": {},
     "output_type": "execute_result"
    },
    {
     "data": {
      "image/png": "[encoded data removed]",
      "text/plain": [
       "<Figure size 432x288 with 1 Axes>"
      ]
     },
     "metadata": {
      "needs_background": "light"
     },
     "output_type": "display_data"
    }
   ],
   "source": [
    "# Plot the target\n",
    "ax = sns.histplot(df.sum_weighted_comments)\n",
    "ax.set_title('Histogram of Online Participation')\n",
    "ax.set_xlabel('Online Participation')\n",
    "#plt.savefig('output.png', dpi=300)"
   ]
  },
  {
   "cell_type": "code",
   "execution_count": 17,
   "metadata": {},
   "outputs": [
    {
     "data": {
      "text/plain": [
       "Text(0.5, 0, 'Online Participation')"
      ]
     },
     "execution_count": 17,
     "metadata": {},
     "output_type": "execute_result"
    },
    {
     "data": {
      "image/png": "[encoded data removed]",
      "text/plain": [
       "<Figure size 432x288 with 1 Axes>"
      ]
     },
     "metadata": {
      "needs_background": "light"
     },
     "output_type": "display_data"
    }
   ],
   "source": [
    "# Plot log transformation of the target\n",
    "ax = sns.histplot(np.log1p(df.sum_weighted_comments))\n",
    "ax.set_title('Histogram of Log-transformed Online Participation')\n",
    "ax.set_xlabel('Online Participation')\n",
    "#plt.savefig('output1.png', dpi=300)"
   ]
  },
  {
   "cell_type": "code",
   "execution_count": 18,
   "metadata": {},
   "outputs": [
    {
     "data": {
      "text/plain": [
       "sum_weighted_comments_log            1.000000\n",
       "sum_weighted_comments                0.574313\n",
       "channel_NPO 1                        0.546404\n",
       "channel_NPO 2                        0.545951\n",
       "pageViewsTotal                       0.533528\n",
       "avg_kdh                              0.504010\n",
       "ownPostsComments                     0.503287\n",
       "first_broadcaster_AVTR               0.483188\n",
       "title_Eenvandaag                     0.440784\n",
       "skoClassL2_NIEUWS & ACTUALITEITEN    0.400824\n",
       "Name: sum_weighted_comments_log, dtype: float64"
      ]
     },
     "execution_count": 18,
     "metadata": {},
     "output_type": "execute_result"
    }
   ],
   "source": [
    "# Create log transformed version of target\n",
    "df['sum_weighted_comments_log'] = np.log1p(df.sum_weighted_comments)\n",
    "# Look at the highest correlations with target\n",
    "df.corr().sum_weighted_comments_log.abs().sort_values(ascending=False).head(10)"
   ]
  },
  {
   "cell_type": "code",
   "execution_count": 19,
   "metadata": {},
   "outputs": [
    {
     "data": {
      "text/plain": [
       "<seaborn.axisgrid.PairGrid at 0x2c3b6ddc6a0>"
      ]
     },
     "execution_count": 19,
     "metadata": {},
     "output_type": "execute_result"
    },
    {
     "data": {
      "image/png": "[encoded data removed]",
      "text/plain": [
       "<Figure size 900x900 with 30 Axes>"
      ]
     },
     "metadata": {
      "needs_background": "light"
     },
     "output_type": "display_data"
    }
   ],
   "source": [
    "sns.pairplot(df[['sum_weighted_comments','ownPostsComments', 'avg_kdh', 'pageViewsTotal', 'fans']], diag_kind='kde')"
   ]
  },
  {
   "cell_type": "code",
   "execution_count": 20,
   "metadata": {},
   "outputs": [],
   "source": [
    "df = df.drop('sum_weighted_comments_log',axis=1)"
   ]
  },
  {
   "cell_type": "markdown",
   "metadata": {},
   "source": [
    "## Saving the DataFrame"
   ]
  },
  {
   "cell_type": "code",
   "execution_count": 21,
   "metadata": {},
   "outputs": [],
   "source": [
    "# Save the transformed df\n",
    "df_tosave = df.copy()\n",
    "df_tosave['ID'] = ids\n",
    "df_tosave.to_csv('main.csv')"
   ]
  },
  {
   "cell_type": "markdown",
   "metadata": {},
   "source": [
    "## Baseline Model"
   ]
  },
  {
   "cell_type": "code",
   "execution_count": 22,
   "metadata": {
    "tags": []
   },
   "outputs": [],
   "source": [
    "# Get the dfs of X and y\n",
    "X_df = df.drop(\"sum_weighted_comments\", axis=1)\n",
    "y_df = df.sum_weighted_comments\n",
    "# Get the numpy arrays\n",
    "X = X_df.values\n",
    "y = y_df.values\n",
    "# Log-transform y\n",
    "y = np.log1p(y)"
   ]
  },
  {
   "cell_type": "code",
   "execution_count": 23,
   "metadata": {},
   "outputs": [],
   "source": [
    "X_train, X_test, y_train, y_test = train_test_split(X, y, test_size=0.25, random_state=44)"
   ]
  },
  {
   "cell_type": "code",
   "execution_count": 24,
   "metadata": {},
   "outputs": [],
   "source": [
    "cv = KFold(n_splits=5, shuffle=True, random_state=55)"
   ]
  },
  {
   "cell_type": "code",
   "execution_count": 25,
   "metadata": {},
   "outputs": [],
   "source": [
    "def score(model, X_train, X_test, y_train, y_test, cv):\n",
    "    model.fit(X_train, y_train)\n",
    "    print(\"Train R^2: {:0.4}\".format(model.score(X_train, y_train)))\n",
    "    print(\"CV R^2: {:0.4}\".format(cross_val_score(model, X_train, y_train, cv=cv, scoring='r2').mean()))\n",
    "    print(\"Test R^2: {:0.4}\".format(model.score(X_test, y_test)))"
   ]
  },
  {
   "cell_type": "code",
   "execution_count": 26,
   "metadata": {},
   "outputs": [
    {
     "name": "stdout",
     "output_type": "stream",
     "text": [
      "Train R^2: 0.6807\n",
      "CV R^2: 0.6405\n",
      "Test R^2: 0.642\n"
     ]
    }
   ],
   "source": [
    "lr = LinearRegression()\n",
    "score(lr, X_train, X_test, y_train, y_test, cv)"
   ]
  },
  {
   "cell_type": "markdown",
   "metadata": {},
   "source": [
    "## Missing Data Analysis"
   ]
  },
  {
   "cell_type": "code",
   "execution_count": 27,
   "metadata": {},
   "outputs": [],
   "source": [
    "df_missing['sm_na'] = df_missing.ownPostsEngagementRate.isnull().astype('int')\n",
    "\n",
    "df_missing = df_missing.drop(['ownPostsEngagementRate','pageImpressionsPaidUnique','pageViewsTotal','pageEngagementRateUnique'], axis=1)\n",
    "df_missing = df_missing.dropna()\n",
    "df_missing = pd.get_dummies(df_missing)\n",
    "y_na = df_missing.sm_na.values\n",
    "X_na = df_missing.drop('sm_na',axis=1).values"
   ]
  },
  {
   "cell_type": "code",
   "execution_count": 28,
   "metadata": {},
   "outputs": [],
   "source": [
    "X_train, X_test, y_train, y_test = train_test_split(X_na, y_na, test_size=0.25, random_state=44)"
   ]
  },
  {
   "cell_type": "code",
   "execution_count": 29,
   "metadata": {},
   "outputs": [
    {
     "name": "stdout",
     "output_type": "stream",
     "text": [
      "0.916354556803995\n"
     ]
    }
   ],
   "source": [
    "logreg_pipe = make_pipeline(StandardScaler(), LogisticRegression(max_iter=10000))\n",
    "logreg_pipe.fit(X_train,y_train)\n",
    "print(logreg_pipe.score(X_test,y_test))\n",
    "\n",
    "df_r = pd.DataFrame(logreg_pipe[1].coef_).T\n",
    "df_r.columns = ['coef']"
   ]
  },
  {
   "cell_type": "markdown",
   "metadata": {},
   "source": [
    "# Lemmatizing"
   ]
  },
  {
   "cell_type": "markdown",
   "metadata": {},
   "source": [
    "## Imports"
   ]
  },
  {
   "cell_type": "code",
   "execution_count": 30,
   "metadata": {},
   "outputs": [],
   "source": [
    "import pandas as pd\n",
    "import spacy\n",
    "import numpy as np\n",
    "from nltk.corpus import stopwords\n",
    "from gensim.corpora import Dictionary\n",
    "import pickle"
   ]
  },
  {
   "cell_type": "markdown",
   "metadata": {},
   "source": [
    "## Merging Subtitles"
   ]
  },
  {
   "cell_type": "code",
   "execution_count": 31,
   "metadata": {},
   "outputs": [],
   "source": [
    "df_s = pd.read_csv('subtitles.csv')\n",
    "df_s = df_s.drop_duplicates('ID')\n",
    "\n",
    "df_m = pd.read_csv('query.csv')\n",
    "df_m = df_m.drop_duplicates('mediaId')"
   ]
  },
  {
   "cell_type": "code",
   "execution_count": 32,
   "metadata": {},
   "outputs": [],
   "source": [
    "df_s = df_s[['ID','AggregatedText','beginTimeCET']]\n",
    "df_m = df_m[['mediaId', 'AggregatedText', 'beginTimeCET']]\n",
    "df_m = df_m.rename({'mediaId' : 'ID'}, axis=1)\n",
    "\n",
    "df_s = df_s.dropna()\n",
    "df_m = df_m.dropna();"
   ]
  },
  {
   "cell_type": "code",
   "execution_count": 33,
   "metadata": {},
   "outputs": [],
   "source": [
    "df = df_s.append(df_m)\n",
    "df = df.drop_duplicates('ID')"
   ]
  },
  {
   "cell_type": "code",
   "execution_count": 34,
   "metadata": {},
   "outputs": [
    {
     "data": {
      "text/plain": [
       "True"
      ]
     },
     "execution_count": 34,
     "metadata": {},
     "output_type": "execute_result"
    }
   ],
   "source": [
    "sum(df_m.ID.isin(df.ID)) == len(df_m)"
   ]
  },
  {
   "cell_type": "code",
   "execution_count": 35,
   "metadata": {},
   "outputs": [],
   "source": [
    "df.to_csv('full_subtitles.csv')"
   ]
  },
  {
   "cell_type": "markdown",
   "metadata": {},
   "source": [
    "## Processing"
   ]
  },
  {
   "cell_type": "code",
   "execution_count": 36,
   "metadata": {},
   "outputs": [],
   "source": [
    "df = pd.read_csv('full_subtitles.csv')"
   ]
  },
  {
   "cell_type": "code",
   "execution_count": 37,
   "metadata": {},
   "outputs": [
    {
     "data": {
      "text/plain": [
       "(44071, 4)"
      ]
     },
     "execution_count": 37,
     "metadata": {},
     "output_type": "execute_result"
    }
   ],
   "source": [
    "df.shape"
   ]
  },
  {
   "cell_type": "code",
   "execution_count": 38,
   "metadata": {},
   "outputs": [],
   "source": [
    "nlp = spacy.load(\"en_core_web_sm\")\n",
    "stopword_list = stopwords.words('dutch')\n",
    "excludeword_list = ['be', 'tt888', 'informatie', 'service.npo.nl', 'jullie', 'oke', 'jij', 'ga', 'nee', 'eigenlijk', 'gewoon', 'leuk', 'vind', 'beetje', 'nou', 'lekker', 'eh', 'hee', 'zei']\n",
    "\n",
    "subsets = []\n",
    "\n",
    "for subset in np.array_split(df.AggregatedText, 20):\n",
    "    processed_texts = [text for text in nlp.pipe(subset, \n",
    "                                                 disable=[\"ner\",\n",
    "                                                 \"parser\"])]\n",
    "    \n",
    "    lemmatized_texts = [[token.lemma_.lower() for token in text if token.lemma_.lower() not in stopword_list and \n",
    "                         token.lemma_.lower() not in excludeword_list and not token.is_punct and not token.is_digit \n",
    "                         and not token.is_space] \n",
    "                        for text in processed_texts]\n",
    "    \n",
    "    subsets.append(lemmatized_texts)"
   ]
  },
  {
   "cell_type": "code",
   "execution_count": 39,
   "metadata": {},
   "outputs": [],
   "source": [
    "flatten = lambda t: [item for sublist in t for item in sublist]"
   ]
  },
  {
   "cell_type": "code",
   "execution_count": 40,
   "metadata": {},
   "outputs": [],
   "source": [
    "df['lemmatized_text'] = flatten(subsets)"
   ]
  },
  {
   "cell_type": "code",
   "execution_count": 41,
   "metadata": {},
   "outputs": [],
   "source": [
    "file = open('subs_lemmatized', 'wb')\n",
    "pickle.dump(df, file)\n",
    "file.close()"
   ]
  },
  {
   "cell_type": "markdown",
   "metadata": {},
   "source": [
    "# Testing"
   ]
  },
  {
   "cell_type": "code",
   "execution_count": 42,
   "metadata": {},
   "outputs": [],
   "source": [
    "nlp = spacy.load(\"en_core_web_sm\")\n",
    "stopword_list = stopwords.words('dutch')\n",
    "excludeword_list = ['be', 'tt888', 'informatie', 'service.npo.nl']\n",
    "\n",
    "subsets = []\n",
    "\n",
    "for subset in np.split(df.AggregatedText[:100],2):\n",
    "    processed_texts = [text for text in nlp.pipe(subset, \n",
    "                                                 disable=[\"ner\",\n",
    "                                                 \"parser\"])]\n",
    "    \n",
    "    lemmatized_texts = [[token.lemma_.lower() for token in text if token.lemma_.lower() not in stopword_list and \n",
    "                         token.lemma_.lower() not in excludeword_list and not token.is_punct and not token.is_digit \n",
    "                         and not token.is_space] \n",
    "                        for text in processed_texts]\n",
    "    \n",
    "    subsets.append(lemmatized_texts)"
   ]
  },
  {
   "cell_type": "markdown",
   "metadata": {},
   "source": [
    "# Modeling"
   ]
  },
  {
   "cell_type": "markdown",
   "metadata": {},
   "source": [
    "### Imports"
   ]
  },
  {
   "cell_type": "code",
   "execution_count": 43,
   "metadata": {},
   "outputs": [],
   "source": [
    "import pandas as pd\n",
    "import pickle\n",
    "import numpy as np\n",
    "import matplotlib.pyplot as plt\n",
    "import seaborn as sns\n",
    "from sklearn.model_selection import train_test_split, cross_val_score, KFold, GridSearchCV, RandomizedSearchCV, learning_curve\n",
    "from sklearn.linear_model import LinearRegression, Ridge, Lasso, ElasticNet, PoissonRegressor\n",
    "from sklearn.ensemble import RandomForestRegressor\n",
    "from sklearn.pipeline import make_pipeline\n",
    "from sklearn.preprocessing import StandardScaler\n",
    "from sklearn.compose import TransformedTargetRegressor\n",
    "from sklearn.svm import SVR\n",
    "from sklearn.metrics import mean_squared_error, r2_score\n",
    "import xgboost as xgb\n",
    "from xgboost.sklearn import XGBRegressor\n",
    "import statsmodels.api as sm\n",
    "from sklearn.inspection import permutation_importance"
   ]
  },
  {
   "cell_type": "markdown",
   "metadata": {},
   "source": [
    "### Import Data"
   ]
  },
  {
   "cell_type": "code",
   "execution_count": 44,
   "metadata": {
    "tags": []
   },
   "outputs": [],
   "source": [
    "main_df = pd.read_csv('main.csv')"
   ]
  },
  {
   "cell_type": "code",
   "execution_count": 45,
   "metadata": {},
   "outputs": [],
   "source": [
    "file = open('df_topicdistributions', 'rb')\n",
    "subs_df = pickle.load(file)\n",
    "file.close()"
   ]
  },
  {
   "cell_type": "code",
   "execution_count": 46,
   "metadata": {},
   "outputs": [],
   "source": [
    "file = open('df_topics', 'rb')\n",
    "topic_df = pickle.load(file)\n",
    "file.close()"
   ]
  },
  {
   "cell_type": "markdown",
   "metadata": {},
   "source": [
    "### Topic DataFrame"
   ]
  },
  {
   "cell_type": "code",
   "execution_count": 47,
   "metadata": {},
   "outputs": [],
   "source": [
    "pd.set_option('display.max_colwidth', None)\n",
    "topic_df.iloc[:,0] = topic_df.iloc[:,0].map(lambda x: x.lstrip(','))"
   ]
  },
  {
   "cell_type": "code",
   "execution_count": 48,
   "metadata": {},
   "outputs": [],
   "source": [
    "topic_df.words = topic_df.words.map(lambda x: x.rstrip(','))"
   ]
  },
  {
   "cell_type": "code",
   "execution_count": 49,
   "metadata": {},
   "outputs": [],
   "source": [
    "topic_columns = ['topic0_corona_measures', 'topic1_corona_vaccine', 'topic2_locations', 'topic3_christianity', 'topic4_dutch_soccer_international', 'topic5_family', 'topic6_government', 'topic7_justice', \n",
    " 'topic8_sustainability', 'topic9_living', 'topic10_tour_de_france', 'topic11_royal_family', 'topic12_meaningless1', 'topic13_food', 'topic14_meaningless2', 'topic15_education',\n",
    " 'topic16_illness', 'topic17_meaningless_3', 'topic18_gender', 'topic19_media_consumption', 'topic20_ice_skating', 'topic21_weather', 'topic22_sports', 'topic23_meaningless_4', \n",
    " 'topic24_meaningless5', 'topic25_international_relations', 'topic26_meaningless_6', 'topic27_meaningless_7', 'topic28_finance', 'topic29_meaningless_8', 'topic30_meaningless_9', \n",
    " 'topic31_business', 'topic32_politics', 'topic33_war', 'topic34_american_politics', 'topic35_china', 'topic36_protest','topic37_team_game_show', \n",
    " 'topic38_quiz_show', 'topic39_music', 'topic40_art', 'topic41_meaningless_10', 'topic42_news', 'topic43_dutch_soccer_national', 'topic44_car_accident', 'topic45_healthcare',\n",
    " 'topic46_children', 'topic47_fires', 'topic48_animals', 'topic49_farmers_protest']"
   ]
  },
  {
   "cell_type": "code",
   "execution_count": 50,
   "metadata": {},
   "outputs": [],
   "source": [
    "topic_df = pd.concat([pd.DataFrame(topic_columns),topic_df],axis=1)"
   ]
  },
  {
   "cell_type": "markdown",
   "metadata": {},
   "source": [
    "### Joining the Topic Distributions"
   ]
  },
  {
   "cell_type": "code",
   "execution_count": 51,
   "metadata": {},
   "outputs": [],
   "source": [
    "subs_df = subs_df.drop(['AggregatedText', 'beginTimeCET', 'lemmatized_text'],axis=1)"
   ]
  },
  {
   "cell_type": "code",
   "execution_count": 52,
   "metadata": {},
   "outputs": [],
   "source": [
    "df = main_df.merge(subs_df, how='left', left_on='ID', right_on='ID')"
   ]
  },
  {
   "cell_type": "code",
   "execution_count": 53,
   "metadata": {},
   "outputs": [],
   "source": [
    "df = df.drop(['Unnamed: 0','ID'], axis=1)"
   ]
  },
  {
   "cell_type": "code",
   "execution_count": 54,
   "metadata": {},
   "outputs": [],
   "source": [
    "cols = list(df.columns[:118]) + topic_columns\n",
    "df.columns = cols"
   ]
  },
  {
   "cell_type": "markdown",
   "metadata": {},
   "source": [
    "### Inspecting"
   ]
  },
  {
   "cell_type": "code",
   "execution_count": 55,
   "metadata": {
    "tags": []
   },
   "outputs": [
    {
     "name": "stdout",
     "output_type": "stream",
     "text": [
      "0\n"
     ]
    }
   ],
   "source": [
    "# Checking for high multicollinearity\n",
    "corr_df = df.iloc[:,119:].corr()\n",
    "high_mc = []\n",
    "for i in np.arange(0,corr_df.shape[0]):\n",
    "    for j in np.arange(0, corr_df.shape[1]):\n",
    "        if corr_df.iloc[i,j] >= 0.80 and i != j:\n",
    "            high_mc.append([i,j])\n",
    "print(len(high_mc))"
   ]
  },
  {
   "cell_type": "code",
   "execution_count": 56,
   "metadata": {
    "tags": []
   },
   "outputs": [],
   "source": [
    "# Create log transformed version of target\n",
    "df['sum_weighted_comments_log'] = np.log1p(df.sum_weighted_comments)\n",
    "# Look at the highest correlations with target\n",
    "corr_target = df.drop('sum_weighted_comments',axis=1).corr().sum_weighted_comments_log.abs()[:-1]"
   ]
  },
  {
   "cell_type": "code",
   "execution_count": 57,
   "metadata": {},
   "outputs": [],
   "source": [
    "df = df.drop('sum_weighted_comments_log',axis=1)"
   ]
  },
  {
   "cell_type": "markdown",
   "metadata": {},
   "source": [
    "### Train/Test Split"
   ]
  },
  {
   "cell_type": "code",
   "execution_count": 58,
   "metadata": {},
   "outputs": [
    {
     "data": {
      "text/plain": [
       "(3204, 168)"
      ]
     },
     "execution_count": 58,
     "metadata": {},
     "output_type": "execute_result"
    }
   ],
   "source": [
    "df.shape"
   ]
  },
  {
   "cell_type": "code",
   "execution_count": 59,
   "metadata": {
    "tags": []
   },
   "outputs": [],
   "source": [
    "# Get the dfs of X and y\n",
    "X_df = df.drop(\"sum_weighted_comments\", axis=1)\n",
    "y_df = df.sum_weighted_comments\n",
    "# Get the numpy arrays\n",
    "X = X_df.values\n",
    "y = y_df.values"
   ]
  },
  {
   "cell_type": "code",
   "execution_count": 60,
   "metadata": {},
   "outputs": [],
   "source": [
    "# Log-transform y\n",
    "y = np.log1p(y)"
   ]
  },
  {
   "cell_type": "markdown",
   "metadata": {},
   "source": [
    "### Train/Test Split"
   ]
  },
  {
   "cell_type": "code",
   "execution_count": 61,
   "metadata": {},
   "outputs": [],
   "source": [
    "X_train, X_test, y_train, y_test = train_test_split(X, y, test_size=0.25, random_state=44)"
   ]
  },
  {
   "cell_type": "markdown",
   "metadata": {},
   "source": [
    "### Cross-Validation and Scoring"
   ]
  },
  {
   "cell_type": "code",
   "execution_count": 62,
   "metadata": {},
   "outputs": [],
   "source": [
    "cv = KFold(n_splits=5, shuffle=True, random_state=55)"
   ]
  },
  {
   "cell_type": "code",
   "execution_count": 63,
   "metadata": {},
   "outputs": [],
   "source": [
    "def score(model, X_train, y_train, cv):\n",
    "    model.fit(X_train, y_train)\n",
    "    print(\"Train R^2: {:0.3}\".format(model.score(X_train, y_train)))\n",
    "    print(\"CV R^2: {:0.3}\".format(cross_val_score(model, X_train, y_train, cv=cv, scoring='r2').mean()))\n",
    "    print(' ')\n",
    "    print(\"Train RMSE: {:0.4}\".format(np.sqrt(mean_squared_error(y_train, model.predict(X_train)))))\n",
    "    print(\"CV RMSE: {:0.4}\".format(-cross_val_score(model, X_train, y_train, cv=cv, scoring='neg_root_mean_squared_error').mean()))"
   ]
  },
  {
   "cell_type": "markdown",
   "metadata": {},
   "source": [
    "### Linear Regression"
   ]
  },
  {
   "cell_type": "code",
   "execution_count": 64,
   "metadata": {
    "tags": []
   },
   "outputs": [
    {
     "name": "stdout",
     "output_type": "stream",
     "text": [
      "Train R^2: 0.698\n",
      "CV R^2: 0.641\n",
      " \n",
      "Train RMSE: 0.9662\n",
      "CV RMSE: 1.052\n"
     ]
    }
   ],
   "source": [
    "lr = LinearRegression()\n",
    "score(lr, X_train, y_train, cv)"
   ]
  },
  {
   "cell_type": "code",
   "execution_count": 65,
   "metadata": {
    "tags": []
   },
   "outputs": [
    {
     "data": {
      "image/png": "[encoded data removed]",
      "text/plain": [
       "<Figure size 432x288 with 1 Axes>"
      ]
     },
     "metadata": {
      "needs_background": "light"
     },
     "output_type": "display_data"
    }
   ],
   "source": [
    "train_sizes, train_scores, validation_scores = learning_curve(lr, X_train, y_train, cv=cv, scoring='r2')\n",
    "plt.plot(train_sizes, train_scores.mean(1))\n",
    "plt.plot(train_sizes, validation_scores.mean(1))\n",
    "plt.ylim([0,1])\n",
    "plt.ylabel('R Squared')\n",
    "plt.xlabel('Number of Samples')\n",
    "plt.legend(['Train Set','Cross-Validation Set'])\n",
    "plt.show()"
   ]
  },
  {
   "cell_type": "markdown",
   "metadata": {},
   "source": [
    "### Ridge Regression "
   ]
  },
  {
   "cell_type": "code",
   "execution_count": 66,
   "metadata": {
    "tags": []
   },
   "outputs": [
    {
     "name": "stdout",
     "output_type": "stream",
     "text": [
      "Train R^2: 0.691\n",
      "CV R^2: 0.651\n",
      " \n",
      "Train RMSE: 0.978\n",
      "CV RMSE: 1.038\n"
     ]
    }
   ],
   "source": [
    "rr_pipe = make_pipeline(StandardScaler(), Ridge(alpha=264))\n",
    "score(rr_pipe, X_train, y_train, cv)"
   ]
  },
  {
   "cell_type": "code",
   "execution_count": 67,
   "metadata": {
    "tags": []
   },
   "outputs": [
    {
     "data": {
      "text/plain": [
       "<matplotlib.legend.Legend at 0x2c3c7de3ca0>"
      ]
     },
     "execution_count": 67,
     "metadata": {},
     "output_type": "execute_result"
    },
    {
     "data": {
      "image/png": "[encoded data removed]",
      "text/plain": [
       "<Figure size 432x288 with 1 Axes>"
      ]
     },
     "metadata": {
      "needs_background": "light"
     },
     "output_type": "display_data"
    }
   ],
   "source": [
    "train_sizes, train_scores, validation_scores = learning_curve(rr_pipe, X_train, y_train, cv=cv, scoring='neg_root_mean_squared_error')\n",
    "plt.plot(train_sizes, -train_scores.mean(1))\n",
    "plt.plot(train_sizes, -validation_scores.mean(1))\n",
    "plt.ylim([0,3])\n",
    "plt.legend(['train','val'])"
   ]
  },
  {
   "cell_type": "code",
   "execution_count": 68,
   "metadata": {
    "tags": []
   },
   "outputs": [
    {
     "name": "stdout",
     "output_type": "stream",
     "text": [
      "{'ridge__alpha': 264}\n",
      "0.6506892086336075\n"
     ]
    }
   ],
   "source": [
    "#param_grid = [{'ridge__alpha': [1,10,100,200,300,400,500]}]\n",
    "param_grid = [{'ridge__alpha': np.arange(250,350,1)}]\n",
    "search = GridSearchCV(rr_pipe, param_grid=param_grid, cv=cv)\n",
    "search.fit(X_train,y_train)\n",
    "print(search.best_params_)\n",
    "print(search.best_score_)"
   ]
  },
  {
   "cell_type": "markdown",
   "metadata": {
    "tags": []
   },
   "source": [
    "### Lasso Regression"
   ]
  },
  {
   "cell_type": "code",
   "execution_count": 69,
   "metadata": {
    "tags": []
   },
   "outputs": [
    {
     "name": "stdout",
     "output_type": "stream",
     "text": [
      "Train R^2: 0.687\n",
      "CV R^2: 0.65\n",
      " \n",
      "Train RMSE: 0.9834\n",
      "CV RMSE: 1.039\n"
     ]
    }
   ],
   "source": [
    "ls_pipe = make_pipeline(StandardScaler(), Lasso(alpha=0.013, max_iter=5000))\n",
    "score(ls_pipe, X_train, y_train, cv)"
   ]
  },
  {
   "cell_type": "code",
   "execution_count": 70,
   "metadata": {
    "tags": []
   },
   "outputs": [
    {
     "data": {
      "text/plain": [
       "<matplotlib.legend.Legend at 0x2c3bc312280>"
      ]
     },
     "execution_count": 70,
     "metadata": {},
     "output_type": "execute_result"
    },
    {
     "data": {
      "image/png": "[encoded data removed]",
      "text/plain": [
       "<Figure size 432x288 with 1 Axes>"
      ]
     },
     "metadata": {
      "needs_background": "light"
     },
     "output_type": "display_data"
    }
   ],
   "source": [
    "train_sizes, train_scores, validation_scores = learning_curve(ls_pipe, X_train, y_train, cv=cv, scoring='neg_root_mean_squared_error')\n",
    "plt.plot(train_sizes, -train_scores.mean(1))\n",
    "plt.plot(train_sizes, -validation_scores.mean(1))\n",
    "plt.ylim([0,3])\n",
    "plt.legend(['train','val'])"
   ]
  },
  {
   "cell_type": "code",
   "execution_count": 71,
   "metadata": {
    "tags": []
   },
   "outputs": [
    {
     "name": "stdout",
     "output_type": "stream",
     "text": [
      "{'lasso__alpha': 0.013000000000000001}\n",
      "0.6499134832959322\n"
     ]
    }
   ],
   "source": [
    "#param_grid = [{'lasso__alpha': [0.0001, 0.001, 0.01, 0.1, 1, 10]}]\n",
    "param_grid = [{'lasso__alpha': np.arange(0.001,0.02,0.001)}]\n",
    "search = GridSearchCV(ls_pipe, param_grid=param_grid, cv=cv)\n",
    "search.fit(X_train,y_train)\n",
    "print(search.best_params_)\n",
    "print(search.best_score_)"
   ]
  },
  {
   "cell_type": "markdown",
   "metadata": {},
   "source": [
    "### Elastic Net"
   ]
  },
  {
   "cell_type": "code",
   "execution_count": 72,
   "metadata": {
    "tags": []
   },
   "outputs": [
    {
     "name": "stdout",
     "output_type": "stream",
     "text": [
      "Train R^2: 0.684\n",
      "CV R^2: 0.65\n",
      " \n",
      "Train RMSE: 0.9878\n",
      "CV RMSE: 1.038\n"
     ]
    }
   ],
   "source": [
    "en_pipe = make_pipeline(StandardScaler(), ElasticNet(alpha=0.1, l1_ratio=0.1, max_iter=10000))\n",
    "score(en_pipe, X_train, y_train, cv)"
   ]
  },
  {
   "cell_type": "code",
   "execution_count": 73,
   "metadata": {
    "tags": []
   },
   "outputs": [
    {
     "data": {
      "text/plain": [
       "<matplotlib.legend.Legend at 0x2c3fb1ba130>"
      ]
     },
     "execution_count": 73,
     "metadata": {},
     "output_type": "execute_result"
    },
    {
     "data": {
      "image/png": "[encoded data removed]",
      "text/plain": [
       "<Figure size 432x288 with 1 Axes>"
      ]
     },
     "metadata": {
      "needs_background": "light"
     },
     "output_type": "display_data"
    }
   ],
   "source": [
    "train_sizes, train_scores, validation_scores = learning_curve(en_pipe, X_train, y_train, cv=cv, scoring='neg_root_mean_squared_error')\n",
    "plt.plot(train_sizes, -train_scores.mean(1))\n",
    "plt.plot(train_sizes, -validation_scores.mean(1))\n",
    "plt.ylim([0,3])\n",
    "plt.legend(['train','val'])"
   ]
  },
  {
   "cell_type": "code",
   "execution_count": 74,
   "metadata": {
    "tags": []
   },
   "outputs": [
    {
     "name": "stdout",
     "output_type": "stream",
     "text": [
      "{'elasticnet__alpha': 0.05, 'elasticnet__l1_ratio': 0.1}\n",
      "0.6507916840988465\n"
     ]
    }
   ],
   "source": [
    "#param_grid = [{'elasticnet__alpha': [1e-5, 1e-4, 1e-3, 1e-2, 1e-1, 0.0, 1.0, 10.0, 100.0], 'elasticnet__l1_ratio': np.arange(0.0, 1, 0.1)}]\n",
    "#param_grid = [{'elasticnet__alpha': [0.05, 0.01, 0.015], 'elasticnet__l1_ratio': [0.00, 0.01]}]\n",
    "param_grid = [{'elasticnet__alpha': [0.05, 0.01, 0.015], 'elasticnet__l1_ratio': [0.1]}]\n",
    "search = GridSearchCV(en_pipe, param_grid=param_grid, cv=cv)\n",
    "search.fit(X_train,y_train)\n",
    "print(search.best_params_)\n",
    "print(search.best_score_)"
   ]
  },
  {
   "cell_type": "markdown",
   "metadata": {},
   "source": [
    "### Support Vector Regression"
   ]
  },
  {
   "cell_type": "code",
   "execution_count": 75,
   "metadata": {
    "tags": []
   },
   "outputs": [
    {
     "name": "stdout",
     "output_type": "stream",
     "text": [
      "Train R^2: 0.686\n",
      "CV R^2: 0.647\n",
      " \n",
      "Train RMSE: 0.9846\n",
      "CV RMSE: 1.043\n"
     ]
    }
   ],
   "source": [
    "svr_pipe = make_pipeline(StandardScaler(), SVR(C=1,gamma='scale',kernel='linear'))\n",
    "score(svr_pipe, X_train, y_train, cv=cv)"
   ]
  },
  {
   "cell_type": "code",
   "execution_count": 76,
   "metadata": {
    "tags": []
   },
   "outputs": [
    {
     "data": {
      "text/plain": [
       "<matplotlib.legend.Legend at 0x2c3ce00b0a0>"
      ]
     },
     "execution_count": 76,
     "metadata": {},
     "output_type": "execute_result"
    },
    {
     "data": {
      "image/png": "[encoded data removed]",
      "text/plain": [
       "<Figure size 432x288 with 1 Axes>"
      ]
     },
     "metadata": {
      "needs_background": "light"
     },
     "output_type": "display_data"
    }
   ],
   "source": [
    "train_sizes, train_scores, validation_scores = learning_curve(svr_pipe, X_train, y_train, cv=cv, scoring='r2')\n",
    "plt.plot(train_sizes, train_scores.mean(1))\n",
    "plt.plot(train_sizes, validation_scores.mean(1))\n",
    "plt.ylim([0,1])\n",
    "plt.legend(['train','test'])"
   ]
  },
  {
   "cell_type": "code",
   "execution_count": 77,
   "metadata": {
    "tags": []
   },
   "outputs": [
    {
     "name": "stdout",
     "output_type": "stream",
     "text": [
      "{'svr__C': 0.02, 'svr__gamma': 'scale', 'svr__kernel': 'linear'}\n",
      "0.6520665047205998\n"
     ]
    }
   ],
   "source": [
    "#param_grid = {'svr__C': [0.1, 1, 10], 'svr__gamma': ['scale','auto'],'svr__kernel': ['rbf','linear']}\n",
    "#param_grid = {'svr__C': [0.05, 0.1, 0.15], 'svr__gamma': ['scale'],'svr__kernel': ['linear']}\n",
    "param_grid = {'svr__C': [0.01,0.02,0.03,0.04,0.05,0.06,0.07,0.08,0.09], 'svr__gamma': ['scale'],'svr__kernel': ['linear']}\n",
    "search = GridSearchCV(svr_pipe, param_grid=param_grid, cv=5)\n",
    "search.fit(X_train,y_train)\n",
    "print(search.best_params_)\n",
    "print(search.best_score_)"
   ]
  },
  {
   "cell_type": "markdown",
   "metadata": {},
   "source": [
    "### Random Forest"
   ]
  },
  {
   "cell_type": "code",
   "execution_count": 78,
   "metadata": {},
   "outputs": [
    {
     "name": "stdout",
     "output_type": "stream",
     "text": [
      "Train R^2: 0.974\n",
      "CV R^2: 0.672\n",
      " \n",
      "Train RMSE: 0.2814\n",
      "CV RMSE: 1.005\n"
     ]
    }
   ],
   "source": [
    "rf = RandomForestRegressor(n_estimators=300, min_samples_split=2, min_samples_leaf=1, max_features='sqrt', max_depth=15, bootstrap=False, random_state=44)\n",
    "\n",
    "score(rf, X_train, y_train, cv=cv)"
   ]
  },
  {
   "cell_type": "code",
   "execution_count": 79,
   "metadata": {},
   "outputs": [
    {
     "name": "stdout",
     "output_type": "stream",
     "text": [
      "485.5953660333063\n",
      "0.9261780626166257\n",
      "0.663925423424999\n"
     ]
    }
   ],
   "source": [
    "y_pred = rf.predict(X_test)\n",
    "print(np.sqrt(mean_squared_error(np.expm1(y_test),np.expm1(y_pred))))\n",
    "print(np.sqrt(mean_squared_error(y_test,y_pred)))\n",
    "print(r2_score(y_test,y_pred))"
   ]
  },
  {
   "cell_type": "code",
   "execution_count": 80,
   "metadata": {},
   "outputs": [
    {
     "data": {
      "image/png": "[encoded data removed]",
      "text/plain": [
       "<Figure size 432x288 with 1 Axes>"
      ]
     },
     "metadata": {
      "needs_background": "light"
     },
     "output_type": "display_data"
    }
   ],
   "source": [
    "sns.scatterplot(x=np.expm1(y_test), y=np.expm1(y_pred))\n",
    "plt.xlim([0,7500])\n",
    "plt.ylim([0,7500])\n",
    "plt.plot(np.arange(0,10000,1), 'r')\n",
    "plt.xlabel('True Online Participation')\n",
    "plt.ylabel('Predicted Online Participation')\n",
    "plt.text(1000, 6000, r' $RMSE$ = %.f' % (430))\n",
    "plt.savefig('true_vs_pred_1.png', dpi=300)"
   ]
  },
  {
   "cell_type": "code",
   "execution_count": 81,
   "metadata": {},
   "outputs": [
    {
     "data": {
      "image/png": "[encoded data removed]",
      "text/plain": [
       "<Figure size 432x288 with 1 Axes>"
      ]
     },
     "metadata": {
      "needs_background": "light"
     },
     "output_type": "display_data"
    }
   ],
   "source": [
    "sns.scatterplot(x=np.expm1(y_test), y=np.expm1(y_pred))\n",
    "plt.xlim([0,2000])\n",
    "plt.ylim([0,2000])\n",
    "plt.plot(np.arange(0,10000,1), 'r')\n",
    "plt.xlabel('True Online Participation')\n",
    "plt.ylabel('Predicted Online Participation')\n",
    "plt.text(250, 1500, r'$R^2$ = %.3f, $RMSE$ = %.f' % (0.662, 272))\n",
    "plt.savefig('true_vs_pred_1.png', dpi=300)"
   ]
  },
  {
   "cell_type": "code",
   "execution_count": null,
   "metadata": {
    "tags": []
   },
   "outputs": [],
   "source": [
    "random_grid = {'n_estimators': [int(x) for x in np.linspace(start = 200, stop = 2000, num = 10)],\n",
    "               'max_features': ['auto', 'sqrt'],\n",
    "               'max_depth': [int(x) for x in np.linspace(10, 110, num = 11)],\n",
    "               'min_samples_split': [2, 5, 10],\n",
    "               'min_samples_leaf': [1, 2, 4],\n",
    "               'bootstrap': [True, False]}\n",
    "search = RandomizedSearchCV(estimator = rf, param_distributions = random_grid, n_iter = 100, cv = cv, verbose=2, random_state=42, n_jobs = -1)\n",
    "search.fit(X_train, y_train)\n",
    "print(search.best_params_)\n",
    "print(search.best_score_)\n",
    "\n",
    "# Fitting 5 folds for each of 100 candidates, totalling 500 fits\n",
    "# {'n_estimators': 800, 'min_samples_split': 2, 'min_samples_leaf': 1, 'max_features': 'sqrt', 'max_depth': 70, 'bootstrap': False}\n",
    "# 0.6746574723326675"
   ]
  },
  {
   "cell_type": "markdown",
   "metadata": {},
   "source": [
    "### Feature Importances of Random Forest Model"
   ]
  },
  {
   "cell_type": "code",
   "execution_count": 84,
   "metadata": {
    "tags": []
   },
   "outputs": [
    {
     "data": {
      "text/html": [
       "<div>\n",
       "<style scoped>\n",
       "    .dataframe tbody tr th:only-of-type {\n",
       "        vertical-align: middle;\n",
       "    }\n",
       "\n",
       "    .dataframe tbody tr th {\n",
       "        vertical-align: top;\n",
       "    }\n",
       "\n",
       "    .dataframe thead th {\n",
       "        text-align: right;\n",
       "    }\n",
       "</style>\n",
       "<table border=\"1\" class=\"dataframe\">\n",
       "  <thead>\n",
       "    <tr style=\"text-align: right;\">\n",
       "      <th></th>\n",
       "      <th>feature</th>\n",
       "      <th>importance</th>\n",
       "    </tr>\n",
       "  </thead>\n",
       "  <tbody>\n",
       "    <tr>\n",
       "      <th>7</th>\n",
       "      <td>ownPostsComments</td>\n",
       "      <td>0.099031</td>\n",
       "    </tr>\n",
       "    <tr>\n",
       "      <th>10</th>\n",
       "      <td>pageViewsTotal</td>\n",
       "      <td>0.091038</td>\n",
       "    </tr>\n",
       "    <tr>\n",
       "      <th>3</th>\n",
       "      <td>avg_kdh</td>\n",
       "      <td>0.062312</td>\n",
       "    </tr>\n",
       "    <tr>\n",
       "      <th>4</th>\n",
       "      <td>fans</td>\n",
       "      <td>0.046955</td>\n",
       "    </tr>\n",
       "    <tr>\n",
       "      <th>64</th>\n",
       "      <td>channel_NPO 2</td>\n",
       "      <td>0.039841</td>\n",
       "    </tr>\n",
       "    <tr>\n",
       "      <th>11</th>\n",
       "      <td>pageEngagementRateUnique</td>\n",
       "      <td>0.035862</td>\n",
       "    </tr>\n",
       "    <tr>\n",
       "      <th>1</th>\n",
       "      <td>duration</td>\n",
       "      <td>0.034696</td>\n",
       "    </tr>\n",
       "    <tr>\n",
       "      <th>5</th>\n",
       "      <td>fansChange</td>\n",
       "      <td>0.034132</td>\n",
       "    </tr>\n",
       "    <tr>\n",
       "      <th>63</th>\n",
       "      <td>channel_NPO 1</td>\n",
       "      <td>0.032632</td>\n",
       "    </tr>\n",
       "    <tr>\n",
       "      <th>9</th>\n",
       "      <td>pageImpressionsPaidUnique</td>\n",
       "      <td>0.028994</td>\n",
       "    </tr>\n",
       "    <tr>\n",
       "      <th>6</th>\n",
       "      <td>ownPosts</td>\n",
       "      <td>0.025440</td>\n",
       "    </tr>\n",
       "    <tr>\n",
       "      <th>102</th>\n",
       "      <td>first_broadcaster_AVTR</td>\n",
       "      <td>0.024377</td>\n",
       "    </tr>\n",
       "    <tr>\n",
       "      <th>21</th>\n",
       "      <td>title_Eenvandaag</td>\n",
       "      <td>0.014428</td>\n",
       "    </tr>\n",
       "    <tr>\n",
       "      <th>8</th>\n",
       "      <td>ownPostsEngagementRate</td>\n",
       "      <td>0.014022</td>\n",
       "    </tr>\n",
       "    <tr>\n",
       "      <th>127</th>\n",
       "      <td>topic10_tour_de_france</td>\n",
       "      <td>0.011318</td>\n",
       "    </tr>\n",
       "    <tr>\n",
       "      <th>71</th>\n",
       "      <td>skoClassL2_NIEUWS &amp; ACTUALITEITEN</td>\n",
       "      <td>0.010456</td>\n",
       "    </tr>\n",
       "    <tr>\n",
       "      <th>73</th>\n",
       "      <td>skoClassL2_OVERIGE NON FICTIE</td>\n",
       "      <td>0.010066</td>\n",
       "    </tr>\n",
       "    <tr>\n",
       "      <th>136</th>\n",
       "      <td>topic19_media_consumption</td>\n",
       "      <td>0.008742</td>\n",
       "    </tr>\n",
       "    <tr>\n",
       "      <th>146</th>\n",
       "      <td>topic29_meaningless_8</td>\n",
       "      <td>0.008481</td>\n",
       "    </tr>\n",
       "    <tr>\n",
       "      <th>82</th>\n",
       "      <td>npoCCCDef_actualiteiten</td>\n",
       "      <td>0.008093</td>\n",
       "    </tr>\n",
       "  </tbody>\n",
       "</table>\n",
       "</div>"
      ],
      "text/plain": [
       "                               feature  importance\n",
       "7                     ownPostsComments    0.099031\n",
       "10                      pageViewsTotal    0.091038\n",
       "3                              avg_kdh    0.062312\n",
       "4                                 fans    0.046955\n",
       "64                       channel_NPO 2    0.039841\n",
       "11            pageEngagementRateUnique    0.035862\n",
       "1                             duration    0.034696\n",
       "5                           fansChange    0.034132\n",
       "63                       channel_NPO 1    0.032632\n",
       "9            pageImpressionsPaidUnique    0.028994\n",
       "6                             ownPosts    0.025440\n",
       "102             first_broadcaster_AVTR    0.024377\n",
       "21                    title_Eenvandaag    0.014428\n",
       "8               ownPostsEngagementRate    0.014022\n",
       "127             topic10_tour_de_france    0.011318\n",
       "71   skoClassL2_NIEUWS & ACTUALITEITEN    0.010456\n",
       "73       skoClassL2_OVERIGE NON FICTIE    0.010066\n",
       "136          topic19_media_consumption    0.008742\n",
       "146              topic29_meaningless_8    0.008481\n",
       "82             npoCCCDef_actualiteiten    0.008093"
      ]
     },
     "execution_count": 84,
     "metadata": {},
     "output_type": "execute_result"
    }
   ],
   "source": [
    "fi = pd.concat([pd.DataFrame(X_df.columns),pd.DataFrame(rf.feature_importances_)],axis=1)\n",
    "fi.columns = ['feature', 'importance']\n",
    "fi.sort_values('importance',ascending=False).head(20)"
   ]
  },
  {
   "cell_type": "markdown",
   "metadata": {},
   "source": [
    "### Extreme Gradient Boosting"
   ]
  },
  {
   "cell_type": "code",
   "execution_count": 92,
   "metadata": {
    "tags": []
   },
   "outputs": [
    {
     "name": "stdout",
     "output_type": "stream",
     "text": [
      "Train R^2: 0.904\n",
      "CV R^2: 0.663\n",
      " \n",
      "Train RMSE: 0.5445\n",
      "CV RMSE: 1.019\n"
     ]
    }
   ],
   "source": [
    "xgb = XGBRegressor(learning_rate=0.01,\n",
    "                   n_estimators=500,\n",
    "                   max_depth=10,\n",
    "                   subsample=0.8,\n",
    "                   colsample_bytree=0.3,\n",
    "                   gamma=3,\n",
    "                   random_state=44)\n",
    "\n",
    "score(xgb, X_train, y_train, cv=cv)"
   ]
  }
 ],
 "metadata": {
  "kernelspec": {
   "display_name": "NLP",
   "language": "python",
   "name": "nlp"
  },
  "language_info": {
   "codemirror_mode": {
    "name": "ipython",
    "version": 3
   },
   "file_extension": ".py",
   "mimetype": "text/x-python",
   "name": "python",
   "nbconvert_exporter": "python",
   "pygments_lexer": "ipython3",
   "version": "3.8.8"
  }
 },
 "nbformat": 4,
 "nbformat_minor": 4
}
